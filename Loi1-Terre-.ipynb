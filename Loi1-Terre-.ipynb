{
 "cells": [
  {
   "cell_type": "markdown",
   "metadata": {},
   "source": [
    "# Vérification de la première loi de Kepler "
   ]
  },
  {
   "cell_type": "markdown",
   "metadata": {},
   "source": [
    "On cherche ici à tracer la trajectoire de la Terre (ou d'un autre objet) autour de l'astre attracteur et de vérifier qu'il s'agit d'une ellipse (ou dun cercle)"
   ]
  },
  {
   "cell_type": "markdown",
   "metadata": {},
   "source": [
    "## Cas n° 1 : la Terre autour du Soleil"
   ]
  },
  {
   "cell_type": "markdown",
   "metadata": {},
   "source": [
    "### Extraction des données :"
   ]
  },
  {
   "cell_type": "markdown",
   "metadata": {},
   "source": [
    "***\n",
    "Extraction des données :\n",
    "On peut récupérer les éphémérides sur le site : http://vo.imcce.fr/webservices/miriade/?forms  \n",
    "Il s'agit d'un fichier au format texte .txt qu'il faut \"nettoyer\".  \n",
    "Le fichier est stocké dans le répertoire data"
   ]
  },
  {
   "cell_type": "markdown",
   "metadata": {},
   "source": [
    "<img src=\"images/data.jpg\" title=\"Données \" width=800 align= \"center\"/>"
   ]
  },
  {
   "cell_type": "markdown",
   "metadata": {},
   "source": [
    "<div class=\"alert alert-info\" role=\"alert\">\n",
    "  <strong>Travail à faire sur le notebook : </strong> <br>\n",
    "    Pour les cellules suivantes, appuyez sur shift entrée pour lancer le code Python contenu chaque cellule\n",
    "</div>"
   ]
  },
  {
   "cell_type": "code",
   "execution_count": null,
   "metadata": {},
   "outputs": [],
   "source": [
    "# fonction qui permet d'obtenir la longitude sous forme décimale \n",
    "def long2dec(d): # d est une string avec les données degres minutes seconde\n",
    "    deg= int(d[1:4])\n",
    "    minute = int(d[5:7])/60\n",
    "    seconde = (int(d[8:10]) + int(d[11:15])/10000 ) / 3600 \n",
    "    return float(deg+minute+seconde)\n",
    "\n",
    "# facteur de conversion\n",
    "UA = 1.5E11 # valeur de l'unité astronomique en mètres"
   ]
  },
  {
   "cell_type": "code",
   "execution_count": null,
   "metadata": {},
   "outputs": [],
   "source": [
    "longitude=[] # crée une liste vide\n",
    "distance=[] \n",
    "\n",
    "with open('data/Terre-2019.txt') as file:\n",
    "    lines = file.readlines()[5:] # attention readlines ! pour lire toutes les lignes et 5: pour enlever les 5 premières lignes\n",
    "    for line in lines:\n",
    "        data0, data1, data2, data3, data4, data5 = line.split(\",\")\n",
    "        longitude.append(long2dec(data2)) # ajoute la nouvelle longitude dans la liste\n",
    "        distance.append(float(data4)*1.5E11) \n",
    "        line = file.readline()\n",
    "        "
   ]
  },
  {
   "cell_type": "markdown",
   "metadata": {},
   "source": [
    "On dispose maintenant de 2 listes contenant les informations sur la position de la Terre dans un repère basé sur le Soleil et le plan de l'écliptique :\n",
    "longitude et distance\n"
   ]
  },
  {
   "cell_type": "markdown",
   "metadata": {},
   "source": [
    "***\n",
    "### Tracé de la position de la Terre autour du Soleil"
   ]
  },
  {
   "cell_type": "markdown",
   "metadata": {},
   "source": [
    "<div class=\"alert alert-info\" role=\"alert\">\n",
    "  <strong>Travail à faire sur le notebook : </strong> <br>\n",
    "    Pour la cellule suivante, appuyez sur shift entrée pour lancer le code Python contenu chaque cellule\n",
    "</div>"
   ]
  },
  {
   "cell_type": "code",
   "execution_count": null,
   "metadata": {},
   "outputs": [],
   "source": [
    "# on importe les bibliothèques nécessaires\n",
    "from matplotlib import pyplot as plt\n",
    "%matplotlib inline\n",
    "\n",
    "from math import pi, cos , sin # pour utiliser les fonctions trigonométriques"
   ]
  },
  {
   "cell_type": "markdown",
   "metadata": {},
   "source": [
    "On souhaite maintenant tracer la position de la Terre dans le référentiel héliocentrique avec un repère basé sur le plan de l'écliptique.\n",
    "<img src=\"images/schema.jpg\" title=\"Coordonnées \" width=400 align= \"center\"/>"
   ]
  },
  {
   "cell_type": "markdown",
   "metadata": {},
   "source": [
    "<div class=\"alert alert-warning\" role=\"alert\">\n",
    "    <strong> Travail à faire : </strong> <br>\n",
    "    --> Compléter le code suivant pour obtenir la composante selon y lors du mouvement de la Terre.<br>\n",
    "    --> Expliquer le calcul réalisé\n",
    "</div>"
   ]
  },
  {
   "cell_type": "code",
   "execution_count": null,
   "metadata": {},
   "outputs": [],
   "source": [
    "x = [distance[i]*cos(longitude[i]*pi/180) for i in range (len(distance))]  # angle converti en radians\n",
    "# y = [?????? à compléter ?????? for i in range (len(distance))] "
   ]
  },
  {
   "cell_type": "code",
   "execution_count": null,
   "metadata": {},
   "outputs": [],
   "source": [
    "# correction\n",
    "y = [distance[i]*sin(longitude[i]*pi/180) for i in range (len(distance))] "
   ]
  },
  {
   "cell_type": "markdown",
   "metadata": {},
   "source": [
    "On représente alors la trajectoire de la Terre dans le référentiel héliocentrique :"
   ]
  },
  {
   "cell_type": "code",
   "execution_count": null,
   "metadata": {},
   "outputs": [],
   "source": [
    "plt.axis('equal') # pour avoir la même échelle selon l'axe des x et celui des y\n",
    "plt.grid() # pour afficher la grille\n",
    "plt.xlabel(\"x\")\n",
    "plt.ylabel(\"y\")\n",
    "plt.title(\"Mouvement de la Terre autour du Soleil\")\n",
    "plt.plot(0,0,\"o\")\n",
    "plt.text(1e10,1e10,'Soleil')\n",
    "plt.text(1.6e11,1e10,'Terre')\n",
    "plt.plot(x,y, \"blue\")"
   ]
  },
  {
   "cell_type": "markdown",
   "metadata": {},
   "source": [
    "## Cas n° 2 : la comète de Haley autour du Soleil"
   ]
  },
  {
   "cell_type": "markdown",
   "metadata": {},
   "source": [
    "Le fichier à utiliser est situé dans le répertoire data et s'appelle : Halley-1900.txt  \n"
   ]
  },
  {
   "cell_type": "markdown",
   "metadata": {},
   "source": [
    "<div class=\"alert alert-warning\" role=\"alert\">\n",
    "    <strong> Travail à faire : </strong> <br>\n",
    "    --> Réutiliser le code précédent (copier - coller) afin de tracer le mouvement de la comète autour du Soleil.<br>\n",
    "    --> Faire vérifier le graphique obtenu.\n",
    "</div>"
   ]
  },
  {
   "cell_type": "code",
   "execution_count": null,
   "metadata": {},
   "outputs": [],
   "source": [
    "# votre code ci-dessous\n"
   ]
  }
 ],
 "metadata": {
  "kernelspec": {
   "display_name": "Python 3",
   "language": "python",
   "name": "python3"
  },
  "language_info": {
   "codemirror_mode": {
    "name": "ipython",
    "version": 3
   },
   "file_extension": ".py",
   "mimetype": "text/x-python",
   "name": "python",
   "nbconvert_exporter": "python",
   "pygments_lexer": "ipython3",
   "version": "3.7.9"
  }
 },
 "nbformat": 4,
 "nbformat_minor": 4
}
