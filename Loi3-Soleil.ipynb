{
 "cells": [
  {
   "cell_type": "markdown",
   "metadata": {},
   "source": [
    "# Vérification de la troisième loi de Kepler "
   ]
  },
  {
   "cell_type": "markdown",
   "metadata": {},
   "source": [
    "## 1 - Extraction des données"
   ]
  },
  {
   "cell_type": "markdown",
   "metadata": {},
   "source": [
    "Les données sur les planètes sont issues de Wikipédia.  \n",
    "Elles sont fournies dans un fichier au format.csv  \n",
    "<img src=\"images/tableur.jpg\" title=\"tableur\" width=300, height=300/>  <br>\n",
    "Repérer les unités pour chaque grandeur.\n",
    "\n",
    "On va maintenant extraire les données de ce fichier pour les stocker dans des listes."
   ]
  },
  {
   "cell_type": "markdown",
   "metadata": {},
   "source": [
    "<div class=\"alert alert-info\" role=\"alert\">\n",
    "  <strong>Travail à faire sur le notebook : </strong> <br>\n",
    "    Pour les cellules suivantes, appuyez sur shift entrée pour lancer le code Python contenu chaque cellule\n",
    "</div>"
   ]
  },
  {
   "cell_type": "code",
   "execution_count": null,
   "metadata": {},
   "outputs": [],
   "source": [
    "planetes=[] # liste des noms des planètes\n",
    "dga= [] # demi grand axe en UA\n",
    "période=[] # péiode de révolution en années\n",
    "masse=[] # masse des planètes\n",
    "\n",
    "with open('data/planetes.csv') as file:\n",
    "    lines = file.readlines()[1:] # attention readlines ! pour lire toutes les lignes et 1: pour enlever la première ligne\n",
    "    for line in lines:\n",
    "        elements = line.split(\";\")\n",
    "        planetes.append(elements[0])\n",
    "        dga.append(float(elements[1]))\n",
    "        période.append(float(elements[2]))\n",
    "        masse.append(float(elements[3]))\n",
    "        line = file.readline()\n",
    "\n"
   ]
  },
  {
   "cell_type": "markdown",
   "metadata": {},
   "source": [
    "On a ainsi récupéré 4 listes contenant les données : planetes, dga (demi grand axe), période et masse."
   ]
  },
  {
   "cell_type": "code",
   "execution_count": null,
   "metadata": {},
   "outputs": [],
   "source": [
    "planetes, dga # permet d'afficher la liste des planètes puis celle des demi-grands axes"
   ]
  },
  {
   "cell_type": "markdown",
   "metadata": {},
   "source": [
    "***\n",
    "## 2 - Tracé des graphiques :\n",
    "On va tracer des graphiques pour tester une possible relation entre les données.\n"
   ]
  },
  {
   "cell_type": "markdown",
   "metadata": {},
   "source": [
    "<div class=\"alert alert-info\" role=\"alert\">\n",
    "  <strong>Travail à faire sur le notebook : </strong> <br>\n",
    "    Pour les cellules suivantes, appuyez sur shift entrée pour lancer le code Python contenu chaque cellule\n",
    "</div>"
   ]
  },
  {
   "cell_type": "code",
   "execution_count": null,
   "metadata": {},
   "outputs": [],
   "source": [
    "from matplotlib import pyplot as plt\n",
    "%matplotlib inline"
   ]
  },
  {
   "cell_type": "code",
   "execution_count": null,
   "metadata": {},
   "outputs": [],
   "source": [
    "plt.plot(dga, masse, color='blue', linestyle='dashed', linewidth=1,\n",
    "marker='+', markerfacecolor='red', markeredgecolor='#cc0000',\n",
    "markeredgewidth=1, markersize=8)\n",
    "plt.show()"
   ]
  },
  {
   "cell_type": "markdown",
   "metadata": {},
   "source": [
    "<div class=\"alert alert-warning\" role=\"alert\">\n",
    "    <strong> Travail à faire : </strong> <br>\n",
    "    --> Quelle donnée a été représentée en abscisse ? <br>\n",
    "    --> Quelle donnée est représentée en abscisse ? <br>\n",
    "    --> Le graphique obtenu montre-t-il une relation simple entre les 2 grandeurs représentées ?\n",
    "</div>"
   ]
  },
  {
   "cell_type": "markdown",
   "metadata": {},
   "source": [
    "<div class=\"alert alert-warning\" role=\"alert\">\n",
    "    <strong> Travail à faire : </strong> <br>\n",
    "    --> Modifier le code ci-dessous pour tracer les variations de la période en fonction de la masse. <br>\n",
    "    --> Le graphique permet-il de visualiser une relation entre ces 2 données ? <br> \n",
    "</div>"
   ]
  },
  {
   "cell_type": "code",
   "execution_count": null,
   "metadata": {},
   "outputs": [],
   "source": [
    "plt.plot(???, ???, color='blue', linestyle='dashed', linewidth=1,\n",
    "marker='+', markerfacecolor='red', markeredgecolor='#cc0000',\n",
    "markeredgewidth=1, markersize=8)"
   ]
  },
  {
   "cell_type": "markdown",
   "metadata": {},
   "source": [
    "<div class=\"alert alert-warning\" role=\"alert\">\n",
    "    <strong> Travail à faire : </strong> <br>\n",
    "    --> Modifier le code ci-dessous pour tracer les variations de la période en fonction du demi-grand axe (dga) <br>\n",
    "    --> Le graphique permet-il de visualiser une relation entre ces 2 données ? <br> \n",
    "</div>"
   ]
  },
  {
   "cell_type": "code",
   "execution_count": null,
   "metadata": {},
   "outputs": [],
   "source": [
    "plt.plot(???, ???, color='blue', linestyle='dashed', linewidth=1, marker='+', markerfacecolor='red', markeredgecolor='#cc0000', markeredgewidth=1, markersize=8)"
   ]
  },
  {
   "cell_type": "markdown",
   "metadata": {},
   "source": [
    "***\n",
    "## 3 - Détermination de l'équation de la courbe de tendance   \n",
    "Le graphique représentant la période en fonction du demi-grand axe montre une relation entre ces 2 données.  \n",
    "Une modélisation va permettre d'obtenir la relation mathématique entre les 2 grandeurs.  \n",
    "On améliore d'abord la présentation avec un titre et des noms de grandeurs sur les axes."
   ]
  },
  {
   "cell_type": "code",
   "execution_count": null,
   "metadata": {},
   "outputs": [],
   "source": [
    "plt.title(\"Evolution de la période avec la distance au Soleil (demi-grand axe)\", color='blue',fontweight = 'bold')\n",
    "plt.xlabel(\"demi-grand axe (UA)\")\n",
    "plt.ylabel(\"période de révolution (ans)\")\n",
    "plt.plot(dga, période, color='blue', linestyle='dashed', linewidth=1,\n",
    "marker='+', markerfacecolor='red', markeredgecolor='#cc0000',\n",
    "markeredgewidth=1, markersize=8)\n",
    "for i in range(len(planetes)):\n",
    "    plt.text(dga[i],période[i], planetes[i],fontsize =8) # Affiche le nom des planètes\n",
    "\n",
    "plt.show()"
   ]
  },
  {
   "cell_type": "markdown",
   "metadata": {},
   "source": [
    "<div class=\"alert alert-info\" role=\"alert\">\n",
    "  <strong>Travail à faire sur le notebook : </strong> <br>\n",
    "    Pour les cellules suivantes, appuyez sur shift entrée pour lancer le code Python contenu chaque cellule\n",
    "</div>"
   ]
  },
  {
   "cell_type": "code",
   "execution_count": null,
   "metadata": {},
   "outputs": [],
   "source": [
    "import numpy as np\n",
    "from scipy.stats import linregress\n",
    "\n",
    "a=np.array(dga) # transforme la liste en tableau numpy\n",
    "T=np.array(période) # idem"
   ]
  },
  {
   "cell_type": "markdown",
   "metadata": {},
   "source": [
    "<div class=\"alert alert-warning\" role=\"alert\">\n",
    "    <strong> Travail à faire : </strong> <br>\n",
    "    --> Modifier la cellule ci-dessous pour tester différentes valeurs pour n et m (et uniquement celle-ci)<br>\n",
    "    --> Exécuter les cellules suivantes et vérifier l'adéquation avec les données expérimentales avec la courbe de tendance <br>\n",
    "    --> Vérifier l'adéquation avec les données expérimentales avec le coefficient de détermination $R^2 $ (le plus proche de 1 possible)\n",
    "\n",
    "</div>"
   ]
  },
  {
   "cell_type": "code",
   "execution_count": null,
   "metadata": {},
   "outputs": [],
   "source": [
    "n = 1 # puissance à appliquer au demi grand axe\n",
    "m = 1 # puissance à appliquer à la période"
   ]
  },
  {
   "cell_type": "code",
   "execution_count": null,
   "metadata": {},
   "outputs": [],
   "source": [
    "(slope,intercept,R_value,_,_)=linregress(a**n,T**m) # permet de faire la régression linéaire\n",
    "# retourne le coefficient directeur = slope, l'ordonnée à l'origine = intercept, le coefficient de corrélation R = R_value"
   ]
  },
  {
   "cell_type": "code",
   "execution_count": null,
   "metadata": {},
   "outputs": [],
   "source": [
    "print(\"la valeur du coefficient de détermination est : \",R_value**2) # affiche le coefficient de détermination (R au carré)"
   ]
  },
  {
   "cell_type": "code",
   "execution_count": null,
   "metadata": {},
   "outputs": [],
   "source": [
    "x=np.linspace(0,40**n,100) # tableau de 100 valeurs entre 0 et 40 UA à la puissance n\n",
    "y = slope*x+intercept"
   ]
  },
  {
   "cell_type": "code",
   "execution_count": null,
   "metadata": {},
   "outputs": [],
   "source": [
    "plt.title(\"Evolution de la période avec la distance au Soleil (demi-grand axe)\", color='blue',fontweight = 'bold')\n",
    "plt.xlabel(\"demi-grand axe (UA) à la puissance n\")\n",
    "plt.ylabel(\"période de révolution (ans) à la puissance m\")\n",
    "plt.plot(a**n, T**m, \"r+\")\n",
    "plt.plot(x,y, \"b\", label=\"droite modèle, R2 ={}\".format(round(R_value**2,10)), linewidth=\"1\")\n",
    "plt.legend()\n",
    "for i in range(len(planetes)):\n",
    "    plt.text(dga[i],période[i], planetes[i],fontsize =8) # Affiche le nom des planètes\n",
    "plt.show()"
   ]
  },
  {
   "cell_type": "markdown",
   "metadata": {},
   "source": [
    "<div class=\"alert alert-success\" role=\"alert\">\n",
    " <strong> Le travail est terminé !</strong> <br>\n",
    "    On doit bien retrouvé la 3e loi de Kepler : $ \\frac{T^2}{a^3} = constante $ \n",
    "</div>"
   ]
  },
  {
   "cell_type": "markdown",
   "metadata": {},
   "source": [
    "# Compléments"
   ]
  },
  {
   "cell_type": "markdown",
   "metadata": {},
   "source": [
    "La 3e loi de Kepler permet de trouver la masse de l'astre attracteur :\n",
    "$ \\frac{T^2}{a^3} = \\frac{4*\\pi^2}{G*M} $\n",
    "\n",
    "mais il faut la période en seconde et le demi-grand axe en mètres !"
   ]
  },
  {
   "cell_type": "code",
   "execution_count": null,
   "metadata": {},
   "outputs": [],
   "source": [
    "T_s = T*365.25*24*3600 # 1 an en seconde\n",
    "a_m = a*1.496E11 # 1 UA = 149 597 870 700 m\n",
    "n=3\n",
    "m=2"
   ]
  },
  {
   "cell_type": "markdown",
   "metadata": {},
   "source": [
    "On recalcule la pente (slope) avec les données dans la bonne unité :"
   ]
  },
  {
   "cell_type": "code",
   "execution_count": null,
   "metadata": {},
   "outputs": [],
   "source": [
    "(slope,intercept,R_value,_,_)=linregress(a_m**n,T_s**m) # permet de faire la régression linéaire\n",
    "slope"
   ]
  },
  {
   "cell_type": "markdown",
   "metadata": {},
   "source": [
    "La troisième loi de Kepler complétée par Newton donne l'expression de la constante de proportionnalité entre $ T^2 $ et $a^3 $.  \n",
    "$ \\frac{T^2}{a^3} = \\frac{4*\\pi^2}{G*M} $  \n",
    "donc $ slope = \\frac{4*\\pi^2}{G*M} $  \n",
    "soit : $ M = \\frac{4*\\pi^2}{G*constante} $"
   ]
  },
  {
   "cell_type": "markdown",
   "metadata": {},
   "source": [
    "<div class=\"alert alert-warning\" role=\"alert\">\n",
    "    <strong> Travail à faire : </strong> <br>\n",
    "    --> Modifier le code ci-dessous pour obtenir la masse du Soleil. <br>\n",
    "\n",
    "</div>"
   ]
  },
  {
   "cell_type": "code",
   "execution_count": null,
   "metadata": {},
   "outputs": [],
   "source": [
    "G = 6.67E-11\n",
    "pi = 3.141592654\n",
    "Masse = ????\n",
    "Masse"
   ]
  },
  {
   "cell_type": "markdown",
   "metadata": {},
   "source": [
    "On trouve la masse du Soleil (Wikipédia) : 1,989 × 10^30 kg  \n",
    "Que penser du résultat trouvé ?"
   ]
  },
  {
   "cell_type": "markdown",
   "metadata": {},
   "source": [
    "### test de plusieurs cas (n,m) :"
   ]
  },
  {
   "cell_type": "code",
   "execution_count": null,
   "metadata": {},
   "outputs": [],
   "source": [
    "liste_R2=[]\n",
    "liste_n=[]\n",
    "liste_m=[]\n",
    "\n",
    "for n in range(1,6):\n",
    "    for m in range(1,6):\n",
    "        (slope,intercept,R_value,_,_)=linregress(a**n,T**m) # permet de faire la régression linéaire\n",
    "        liste_n.append(n)\n",
    "        liste_m.append(m)\n",
    "        liste_R2.append(R_value**2)\n",
    "        print( \"n = \",n,\"m=\",m,\"coefficient de détermination=\",R_value**2)\n",
    "\n",
    "print(max(liste_R2), \"pour n=\", liste_n[liste_R2.index(max(liste_R2))],\"et m=\",liste_m[liste_R2.index(max(liste_R2))])\n",
    "        "
   ]
  },
  {
   "cell_type": "markdown",
   "metadata": {},
   "source": [
    "## 4 - Utilisation d'un graphique log-log"
   ]
  },
  {
   "cell_type": "markdown",
   "metadata": {},
   "source": [
    "L'utilisation d'un graphique en log-log permet notamment de trouver des modélisations en puissance.  \n",
    "Commençons par tracer nos points ( a , période) dans un graphique log-log.  \n",
    "Observez bien les graduations sur les axes."
   ]
  },
  {
   "cell_type": "markdown",
   "metadata": {},
   "source": [
    "<div class=\"alert alert-info\" role=\"alert\">\n",
    "  <strong>Travail à faire sur le notebook : </strong> <br>\n",
    "    Pour les cellules suivantes, appuyez sur shift entrée pour lancer le code Python contenu chaque cellule\n",
    "</div>"
   ]
  },
  {
   "cell_type": "code",
   "execution_count": null,
   "metadata": {},
   "outputs": [],
   "source": [
    "plt.title(\"Evolution de la période avec la distance au Soleil (graphe log-log)\", color='blue',fontweight = 'bold')\n",
    "plt.xlabel(\"demi-grand axe (UA)\")\n",
    "plt.ylabel(\"période de révolution (ans)\")\n",
    "plt.xscale('log') # pour choisir une échelle log sur l'axe des ordonnées x\n",
    "plt.yscale('log') # pour choisir une échelle log sur l'axe des ordonnées y\n",
    "plt.grid(True)\n",
    "plt.plot(a, T, color='blue', linestyle='none', linewidth=1, marker='+', markerfacecolor='red', markeredgecolor='#cc0000',markeredgewidth=1, markersize=8)\n",
    "for i in range(len(planetes)):\n",
    "    plt.text(dga[i]*1.1,période[i]*1.1, planetes[i],fontsize =8) # Affiche le nom des planètes\n",
    "plt.show()"
   ]
  },
  {
   "cell_type": "markdown",
   "metadata": {},
   "source": [
    "La relation entre les 2 grandeurs est alors particulièrement visible !"
   ]
  },
  {
   "cell_type": "code",
   "execution_count": null,
   "metadata": {},
   "outputs": [],
   "source": []
  },
  {
   "cell_type": "code",
   "execution_count": null,
   "metadata": {},
   "outputs": [],
   "source": []
  }
 ],
 "metadata": {
  "kernelspec": {
   "display_name": "Python 3",
   "language": "python",
   "name": "python3"
  },
  "language_info": {
   "codemirror_mode": {
    "name": "ipython",
    "version": 3
   },
   "file_extension": ".py",
   "mimetype": "text/x-python",
   "name": "python",
   "nbconvert_exporter": "python",
   "pygments_lexer": "ipython3",
   "version": "3.7.9"
  }
 },
 "nbformat": 4,
 "nbformat_minor": 4
}
