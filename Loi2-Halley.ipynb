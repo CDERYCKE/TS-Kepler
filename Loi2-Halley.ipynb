{
 "cells": [
  {
   "cell_type": "markdown",
   "metadata": {},
   "source": [
    "# Vérification de la deuxième loi de Kepler "
   ]
  },
  {
   "cell_type": "markdown",
   "metadata": {},
   "source": [
    "On cherche ici à vérifier la 2e loi de Kepler aussi appelée loi des aires :\n"
   ]
  },
  {
   "cell_type": "markdown",
   "metadata": {},
   "source": [
    "## Cas n° 2 : la comète de Halley autour du Soleil"
   ]
  },
  {
   "cell_type": "markdown",
   "metadata": {},
   "source": [
    "### Extraction des données :"
   ]
  },
  {
   "cell_type": "markdown",
   "metadata": {},
   "source": [
    "***\n",
    "Extraction des données :\n",
    "On peut récupérer les éphémérides sur le site : http://vo.imcce.fr/webservices/miriade/?forms  \n",
    "Il s'agit d'un fichier au format texte .txt qu'il faut \"nettoyer\".  \n",
    "Le fichier est stocké dans le répertoire data"
   ]
  },
  {
   "cell_type": "markdown",
   "metadata": {},
   "source": [
    "<div class=\"alert alert-info\" role=\"alert\">\n",
    "  <strong>Travail à faire sur le notebook : </strong> <br>\n",
    "    Pour les cellules suivantes, appuyez sur shift entrée pour lancer le code Python contenu chaque cellule\n",
    "</div>"
   ]
  },
  {
   "cell_type": "code",
   "execution_count": null,
   "metadata": {},
   "outputs": [],
   "source": [
    "# fonction qui permet d'obtenir la longitude sous forme décimale \n",
    "def long2dec(d): # d est une string avec les données degres minutes seconde\n",
    "    deg= int(d[1:4])\n",
    "    minute = int(d[5:7])/60\n",
    "    seconde = (int(d[8:10]) + int(d[11:15])/10000 ) / 3600 \n",
    "    return float(deg+minute+seconde)\n",
    "\n",
    "# facteur de conversion\n",
    "UA = 1.5E11"
   ]
  },
  {
   "cell_type": "code",
   "execution_count": null,
   "metadata": {},
   "outputs": [],
   "source": [
    "longitude=[] # crée une liste vide\n",
    "distance=[] \n",
    "\n",
    "with open('data/Halley-1900.txt') as file:\n",
    "    lines = file.readlines()[5:] # attention readlines ! pour lire toutes les lignes et 5: pour enlever les 5 premières lignes\n",
    "    for line in lines:\n",
    "        data0, data1, data2, data3, data4, data5 = line.split(\",\")\n",
    "        longitude.append(long2dec(data2)) # ajoute la nouvelle longitude dans la liste\n",
    "        distance.append(float(data4)*1.5E11)\n",
    "        line = file.readline()\n",
    "        "
   ]
  },
  {
   "cell_type": "markdown",
   "metadata": {},
   "source": [
    "On dispose maintenant de 2 listes contenant les informations sur la position de la Terre dans un repère basé sur le Soleil et le plan de l'écliptique :\n",
    "longitude et distance\n"
   ]
  },
  {
   "cell_type": "markdown",
   "metadata": {},
   "source": [
    "***\n",
    "## Calcul de l'aire balayée par la comète  dans son mouvement autour du Soleil"
   ]
  },
  {
   "cell_type": "markdown",
   "metadata": {},
   "source": [
    "\n",
    "<img src=\"images/Kepler.jpg\" title=\"géométrie\" width=500 align= \"center\"/>"
   ]
  },
  {
   "cell_type": "code",
   "execution_count": null,
   "metadata": {},
   "outputs": [],
   "source": [
    "# on importe les bibliothèques nécessaires\n",
    "from matplotlib import pyplot as plt\n",
    "%matplotlib inline\n",
    "\n",
    "from math import pi, cos , sin"
   ]
  },
  {
   "cell_type": "markdown",
   "metadata": {},
   "source": [
    "<div class=\"alert alert-warning\" role=\"alert\">\n",
    "    <strong> Travail à faire : </strong> <br>\n",
    "    --> Compléter le code suivant pour obtenir la fonction qui calcule l'aire du triangle <br>\n",
    "    --> Expliquer le calcul réalisé\n",
    "</div>"
   ]
  },
  {
   "cell_type": "markdown",
   "metadata": {},
   "source": [
    "\n",
    "<img src=\"images/aire.jpg\" title=\"géométrie\" width=800 align= \"center\"/>"
   ]
  },
  {
   "cell_type": "code",
   "execution_count": null,
   "metadata": {},
   "outputs": [],
   "source": [
    "def aire(angle,distance): # valable pour des angles petits exprimés en degrés\n",
    "    surface = ???????\n",
    "    return surface"
   ]
  },
  {
   "cell_type": "markdown",
   "metadata": {},
   "source": [
    "On cherche alors à calculer l'aire balayée pendant un durée donnée"
   ]
  },
  {
   "cell_type": "markdown",
   "metadata": {},
   "source": [
    "<div class=\"alert alert-info\" role=\"alert\">\n",
    "  <strong>Travail à faire sur le notebook : </strong> <br>\n",
    "    Pour les cellules suivantes, appuyez sur shift entrée pour lancer le code Python contenu chaque cellule\n",
    "</div>"
   ]
  },
  {
   "cell_type": "markdown",
   "metadata": {},
   "source": [
    "<div class=\"alert alert-info\" role=\"alert\">\n",
    "  <strong>Travail à faire sur le notebook : </strong> <br>\n",
    "    Pour les cellules suivantes, appuyez sur shift entrée pour lancer le code Python contenu chaque cellule\n",
    "</div>"
   ]
  },
  {
   "cell_type": "code",
   "execution_count": null,
   "metadata": {},
   "outputs": [],
   "source": [
    "def aire_balayée_0(date,durée): # date = année et durée en nombre d'année sachant que le fichier .txt de départ correspond à 1 ligne par année\n",
    "    surface=0\n",
    "    for i in range(durée):\n",
    "        angle = -longitude[date]+longitude[date-1] # modification des signes pour avoir un angle positif et une aire positive\n",
    "        surface = surface + aire(angle,distance[date])\n",
    "    return surface"
   ]
  },
  {
   "cell_type": "markdown",
   "metadata": {},
   "source": [
    "On teste alors les aires à différents instants de la trajectoire.  \n",
    "On stocke les données dans une liste notée A.  "
   ]
  },
  {
   "cell_type": "code",
   "execution_count": null,
   "metadata": {},
   "outputs": [],
   "source": [
    "delta=1 # 1 année de delta t \n",
    "A = [aire_balayée_0(i,delta) for i in range(1,len(longitude)-delta) ]\n"
   ]
  },
  {
   "cell_type": "markdown",
   "metadata": {},
   "source": [
    "On va ensuite tracer un histogramme des valeurs de A :"
   ]
  },
  {
   "cell_type": "code",
   "execution_count": null,
   "metadata": {},
   "outputs": [],
   "source": [
    "plt.xlabel(\"aire balayée\")\n",
    "plt.ylabel(\"effectifs\")\n",
    "plt.hist(A, bins=100,range=(0,max(A)), edgecolor = \"black\")"
   ]
  },
  {
   "cell_type": "markdown",
   "metadata": {},
   "source": [
    "<div class=\"alert alert-warning\" role=\"alert\">\n",
    "    <strong> Travail à faire : </strong> <br>\n",
    "    --> Commenter l'histogramme des aires balayées en une année pour toutes les positions de la trajectoire de la comète <br>\n",
    "</div>"
   ]
  },
  {
   "cell_type": "markdown",
   "metadata": {},
   "source": [
    "On peut calculer la moyenne et l'écart-type"
   ]
  },
  {
   "cell_type": "code",
   "execution_count": null,
   "metadata": {},
   "outputs": [],
   "source": [
    "moyenne_A = sum(A)/len(A)\n",
    "moyenne_A "
   ]
  },
  {
   "cell_type": "code",
   "execution_count": null,
   "metadata": {},
   "outputs": [],
   "source": [
    "S = [ (A[i]-moyenne_A)**2. for i in range(len(A)) ] # avec la définition de l'écart-type expérimental\n",
    "écart = (1/(len(A)-1)*sum(S))**0.5"
   ]
  },
  {
   "cell_type": "code",
   "execution_count": null,
   "metadata": {},
   "outputs": [],
   "source": [
    "print(f\"La moyenne des aires balayées vaut {moyenne_A:2e} m^2\")\n",
    "print(f\"L'écart-type sur l'aire vaut {écart:2e} m^2\")\n",
    "print(f\"L'incertitude-type sur la moyenne des aires vaut {écart/(len(A))**0.5:2e} m^2\")\n",
    "print(f\"L'incertitude-type relative vaut {(écart/(len(A))**0.5) /moyenne_A *100} %\")"
   ]
  },
  {
   "cell_type": "markdown",
   "metadata": {},
   "source": [
    "<div class=\"alert alert-success\" role=\"alert\">\n",
    " <strong> Le travail est terminé !</strong> <br>\n",
    "    On doit bien retrouvé la 2e loi de Kepler : des surfaces égales sont balayées pendant des durées égales.\n",
    "</div>"
   ]
  },
  {
   "cell_type": "markdown",
   "metadata": {},
   "source": [
    "# Compléments"
   ]
  },
  {
   "cell_type": "markdown",
   "metadata": {},
   "source": [
    "<div class=\"alert alert-info\" role=\"alert\">\n",
    "  <strong>Travail à faire sur le notebook : </strong> <br>\n",
    "    Pour les cellules suivantes, appuyez sur shift entrée pour lancer le code Python contenu chaque cellule\n",
    "</div>"
   ]
  },
  {
   "cell_type": "markdown",
   "metadata": {},
   "source": [
    "On peut tracer les variations de l'aire balayée en fonction du temps"
   ]
  },
  {
   "cell_type": "code",
   "execution_count": null,
   "metadata": {},
   "outputs": [],
   "source": [
    "plt.title(\"aire balayée en fonction de la position angulaire\")\n",
    "plt.xlabel(\"longitude\")\n",
    "plt.ylabel(\"aire balayée\")\n",
    "plt.plot(longitude[1:-delta], A,\"+\")"
   ]
  },
  {
   "cell_type": "markdown",
   "metadata": {},
   "source": [
    "On constate que l'aire balayée est presque constante\n",
    "mais problème lié à la définition de la surface balayée lorsqu'on passe à 360° !"
   ]
  },
  {
   "cell_type": "markdown",
   "metadata": {},
   "source": [
    "On peut améliorer le calcul de l'aire en prenant une formule exacte :\n"
   ]
  },
  {
   "cell_type": "markdown",
   "metadata": {},
   "source": [
    "<img src=\"images/aire2.jpg\" title=\"géométrie\" width=600 align= \"center\"/>"
   ]
  },
  {
   "cell_type": "code",
   "execution_count": null,
   "metadata": {},
   "outputs": [],
   "source": [
    "def aire2(date): # valable pour n'importe quel angle en °\n",
    "    surface = 0.5 * distance[date+1] * distance[date] * sin((-longitude[date+1]+longitude[date])*pi/180) # signe pour avoir angle positif\n",
    "    return surface"
   ]
  },
  {
   "cell_type": "code",
   "execution_count": null,
   "metadata": {},
   "outputs": [],
   "source": [
    "def aire_balayée2(date,durée): # date = jour de l'année et durée en nombre de jours sachant que le fichier .txt de départ correspond à 1 ligne par jour\n",
    "    surface=0\n",
    "    for i in range(durée):\n",
    "        surface = surface + aire2(date)\n",
    "    return surface"
   ]
  },
  {
   "cell_type": "code",
   "execution_count": null,
   "metadata": {},
   "outputs": [],
   "source": [
    "delta=1\n",
    "A2 = [aire_balayée2(i,delta) for i in range(1,len(longitude)-delta) ]\n",
    "plt.xlabel(\"aire balayée\")\n",
    "plt.ylabel(\"effectifs\")\n",
    "plt.hist(A2, bins=100, range=(min(A2)*0.5,max(A2)*1.5), edgecolor = \"black\")\n",
    "plt.show()"
   ]
  },
  {
   "cell_type": "raw",
   "metadata": {},
   "source": [
    "Les résultats sont-ils fondamentalement différents ?"
   ]
  }
 ],
 "metadata": {
  "kernelspec": {
   "display_name": "Python 3",
   "language": "python",
   "name": "python3"
  },
  "language_info": {
   "codemirror_mode": {
    "name": "ipython",
    "version": 3
   },
   "file_extension": ".py",
   "mimetype": "text/x-python",
   "name": "python",
   "nbconvert_exporter": "python",
   "pygments_lexer": "ipython3",
   "version": "3.7.9"
  }
 },
 "nbformat": 4,
 "nbformat_minor": 4
}
